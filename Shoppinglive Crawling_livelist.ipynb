{
 "cells": [
  {
   "cell_type": "code",
   "execution_count": 1,
   "metadata": {},
   "outputs": [],
   "source": [
    "from selenium import webdriver\n",
    "from bs4 import BeautifulSoup\n",
    "import numpy as np \n",
    "import pandas as pd\n",
    "import time\n",
    "import random\n",
    "\n",
    "live_id = []\n",
    "live_datetime = []\n",
    "live_title = []\n",
    "\n",
    "def infinite_loop():\n",
    "    last_page_height = driver.execute_script(\"return document.documentElement.scrollHeight\")\n",
    "\n",
    "    while True:\n",
    "        driver.execute_script(\"window.scrollTo(0, document.documentElement.scrollHeight);\")\n",
    "        time.sleep(1.0)\n",
    "        new_page_height = driver.execute_script(\"return document.documentElement.scrollHeight\")\n",
    "        if new_page_height == last_page_height:\n",
    "            time.sleep(1.0)\n",
    "            if new_page_height == driver.execute_script(\"return document.documentElement.scrollHeight\"):\n",
    "                break\n",
    "        else:\n",
    "            last_page_height = new_page_height\n",
    "\n",
    "driver = webdriver.Chrome('chromedriver.exe')\n",
    "driver.implicitly_wait(3)\n",
    "url = 'https://tool.shoppinglive.naver.com/'\n",
    "driver.get(url)"
   ]
  },
  {
   "cell_type": "code",
   "execution_count": 106,
   "metadata": {},
   "outputs": [],
   "source": [
    "infinite_loop()\n",
    "html = driver.page_source\n",
    "soup = BeautifulSoup(html, 'html.parser')\n",
    "product = soup.find('div', {'class' : 'ag-center-cols-container'}).find_all('div', {'role' : 'row'})\n",
    "for i in range(0,len(product)):\n",
    "    live_id.append(product[i].find('div',{'class':'ag-cell ag-cell-not-inline-editing ag-cell-auto-height cell-id ag-cell-value'}).get_text())\n",
    "    live_datetime.append(product[i].find('div',{'class':'LiveContentItem_info_3Tv3i'}).get_text())\n",
    "    live_title.append(product[i].find('strong').get_text())"
   ]
  },
  {
   "cell_type": "code",
   "execution_count": 116,
   "metadata": {},
   "outputs": [
    {
     "data": {
      "text/html": [
       "<div>\n",
       "<style scoped>\n",
       "    .dataframe tbody tr th:only-of-type {\n",
       "        vertical-align: middle;\n",
       "    }\n",
       "\n",
       "    .dataframe tbody tr th {\n",
       "        vertical-align: top;\n",
       "    }\n",
       "\n",
       "    .dataframe thead th {\n",
       "        text-align: right;\n",
       "    }\n",
       "</style>\n",
       "<table border=\"1\" class=\"dataframe\">\n",
       "  <thead>\n",
       "    <tr style=\"text-align: right;\">\n",
       "      <th></th>\n",
       "      <th>id</th>\n",
       "      <th>date</th>\n",
       "      <th>title</th>\n",
       "    </tr>\n",
       "  </thead>\n",
       "  <tbody>\n",
       "    <tr>\n",
       "      <th>19</th>\n",
       "      <td>727307</td>\n",
       "      <td>2022.11.09 19:00</td>\n",
       "      <td>굿바이,뉴질랜드 골드키위🖐</td>\n",
       "    </tr>\n",
       "    <tr>\n",
       "      <th>18</th>\n",
       "      <td>730446</td>\n",
       "      <td>2022.11.09 17:38</td>\n",
       "      <td>제스프리 브랜드스토어님의 라이브 방송</td>\n",
       "    </tr>\n",
       "    <tr>\n",
       "      <th>21</th>\n",
       "      <td>716592</td>\n",
       "      <td>2022.11.04 11:00</td>\n",
       "      <td>마감임박! 뉴질랜드 골드키위🥝</td>\n",
       "    </tr>\n",
       "    <tr>\n",
       "      <th>20</th>\n",
       "      <td>722598</td>\n",
       "      <td>2022.11.04 09:29</td>\n",
       "      <td>제스프리 브랜드스토어님의 라이브 방송</td>\n",
       "    </tr>\n",
       "  </tbody>\n",
       "</table>\n",
       "</div>"
      ],
      "text/plain": [
       "        id              date                 title\n",
       "19  727307  2022.11.09 19:00        굿바이,뉴질랜드 골드키위🖐\n",
       "18  730446  2022.11.09 17:38  제스프리 브랜드스토어님의 라이브 방송\n",
       "21  716592  2022.11.04 11:00      마감임박! 뉴질랜드 골드키위🥝\n",
       "20  722598  2022.11.04 09:29  제스프리 브랜드스토어님의 라이브 방송"
      ]
     },
     "execution_count": 116,
     "metadata": {},
     "output_type": "execute_result"
    }
   ],
   "source": [
    "result = {\"id\" : live_id, \"date\" : live_datetime, \"title\" : live_title }\n",
    "df = pd.DataFrame(result)\n",
    "df = df.sort_values('date', ascending=False)\n",
    "df.head(4)"
   ]
  }
 ],
 "metadata": {
  "kernelspec": {
   "display_name": "Python 3",
   "language": "python",
   "name": "python3"
  },
  "language_info": {
   "codemirror_mode": {
    "name": "ipython",
    "version": 3
   },
   "file_extension": ".py",
   "mimetype": "text/x-python",
   "name": "python",
   "nbconvert_exporter": "python",
   "pygments_lexer": "ipython3",
   "version": "3.6.8"
  }
 },
 "nbformat": 4,
 "nbformat_minor": 2
}
