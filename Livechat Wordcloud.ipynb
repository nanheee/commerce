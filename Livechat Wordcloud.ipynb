{
 "cells": [
  {
   "cell_type": "code",
   "execution_count": null,
   "metadata": {},
   "outputs": [],
   "source": [
    "import pandas as pd\n",
    "import os\n",
    "import emoji\n",
    "from konlpy.tag import Twitter\n",
    "\n",
    "def remove_emoji(text): \n",
    "    return emoji.get_emoji_regexp().sub(u'', text)\n",
    "\n",
    "message_list = []\n",
    "remove_list = []\n",
    "new_list = []\n",
    "sentences_tag = []\n",
    "keywords = []\n",
    "\n",
    "filepath = r'C:\\filepath'\n",
    "excel = 'livechat.xlsx'\n",
    "path = os.path.join(filepath,excel)\n",
    "livechat = pd.read_excel(path, encoding = 'utf-8')\n",
    "\n",
    "for index, row in livechat.iterrows():\n",
    "    message_list.append(row[\"메시지\"])  \n",
    "\n",
    "#remove_emoji  ***메시지에 공백이 있으면 에러발생\n",
    "for n in range(0, len(message_list)): \n",
    "    try:\n",
    "        remove_list.append(remove_emoji(message_list[n]))\n",
    "    except:\n",
    "        pass\n",
    "\n",
    "# 정렬 후 중복메시지 제거\n",
    "sort_list= sorted(remove_list)\n",
    "for v in sort_list:\n",
    "    if v not in new_list:\n",
    "        new_list.append(v)\n",
    "\n",
    "tw = Twitter()\n",
    "for x in new_list: \n",
    "    sentences_tag.append(tw.pos(x))\n",
    "\n",
    "for x in sentences_tag:                           # sentences_tag의 list에서 for문으로 하나씩 꺼냄\n",
    "    for word, tag in x:                                 # 각 tuple의 (word, tag)를 for문으로 각각 꺼냄\n",
    "        if tag in ['Noun','Adjective']:      # tag가 Noun(명사) or Adjective(형용사)이면 keywords의 list에 append 함.\n",
    "            keywords.append(word)\n",
    "            \n",
    "from collections import Counter            # collection 패키지에서 Counter(등장 횟수를 세주는 역할)를 불러옴\n",
    "counts = Counter(keywords)                 # keywords에서 서로 다른 명사와 형용사가 얼마나 많이 쓰였는지를 셈\n",
    "counts.most_common(200)"
   ]
  }
 ],
 "metadata": {
  "kernelspec": {
   "display_name": "Python 3",
   "language": "python",
   "name": "python3"
  },
  "language_info": {
   "codemirror_mode": {
    "name": "ipython",
    "version": 3
   },
   "file_extension": ".py",
   "mimetype": "text/x-python",
   "name": "python",
   "nbconvert_exporter": "python",
   "pygments_lexer": "ipython3",
   "version": "3.6.8"
  }
 },
 "nbformat": 4,
 "nbformat_minor": 2
}
