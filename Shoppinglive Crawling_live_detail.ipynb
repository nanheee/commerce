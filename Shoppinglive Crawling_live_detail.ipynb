{
 "cells": [
  {
   "cell_type": "code",
   "execution_count": 1,
   "metadata": {},
   "outputs": [],
   "source": [
    "from selenium import webdriver\n",
    "from bs4 import BeautifulSoup\n",
    "import numpy as np \n",
    "import pandas as pd\n",
    "import time\n",
    "import random\n",
    "\n",
    "driver = webdriver.Chrome('chromedriver.exe')\n",
    "driver.implicitly_wait(3)\n",
    "url = 'https://tool.shoppinglive.naver.com/'\n",
    "driver.get(url)"
   ]
  },
  {
   "cell_type": "code",
   "execution_count": 30,
   "metadata": {},
   "outputs": [],
   "source": [
    "driver.find_element_by_xpath('//*[@id=\"wa-status-selectbox\"]' ).click()\n",
    "time.sleep(random.randrange(1,2))\n",
    "driver.find_element_by_xpath('//*[@id=\"content\"]/div[2]/div[2]/div/div/a[3]').click()\n",
    "time.sleep(random.randrange(1,2))\n",
    "driver.find_element_by_xpath('//*[@id=\"wa_referer_tab_ON_AIR\"]').click()\n",
    "time.sleep(random.randrange(1,2))\n",
    "html = driver.page_source\n",
    "soup = BeautifulSoup(html, 'html.parser')"
   ]
  },
  {
   "cell_type": "code",
   "execution_count": 31,
   "metadata": {},
   "outputs": [
    {
     "data": {
      "text/plain": [
       "<html lang=\"ko\" xmlns=\"http://www.w3.org/1999/xhtml\"><head>\n",
       "<meta content=\"text/html; charset=utf-8\" http-equiv=\"Content-Type\"/>\n",
       "<meta content=\"IE=edge\" http-equiv=\"X-UA-Compatible\"/>\n",
       "<meta content=\"width=device-width,initial-scale=1.0,maximum-scale=1.0,user-scalable=no\" name=\"viewport\"/>\n",
       "<!-- og tag -->\n",
       "<meta content=\"website\" property=\"og:type\"/>\n",
       "<meta property=\"og:url\"/>\n",
       "<meta property=\"og:title\"/>\n",
       "<meta property=\"og:image\"/>\n",
       "<meta property=\"og:description\"/>\n",
       "<link href=\"https://im.pstatic.net/selective/img/favicon_live_pc_32_32.ico\" rel=\"shortcut icon\"/>\n",
       "<title>네이버 쇼핑라이브</title>\n",
       "<script type=\"text/javascript\">\n",
       "        function setExpireCookie(days) {\n",
       "            let expires = ''\n",
       "            if (days) {\n",
       "                const date = new Date()\n",
       "                date.setTime(date.getTime() + (days * 24 * 60 * 60 * 1000))\n",
       "                expires = '; expires=' + date.toGMTString()\n",
       "            }\n",
       "            return expires\n",
       "        }\n",
       "\n",
       "\n",
       "        const serverAdminInfo = 'null';\n",
       "        const message = decodeURI('null')\n",
       "        const adminLoginInfo = serverAdminInfo ? JSON.parse(serverAdminInfo) : null;\n",
       "\n",
       "        const inAppToken = document.cookie.match('(^|;) ?X-LIVE-COMMERCE-AUTH=([^;]*)(;|$)');\n",
       "        const existInAppToken = inAppToken && (inAppToken[2] !== 'undefined' || inAppToken[2] !== 'null') ? inAppToken[2] : null\n",
       "\n",
       "        const adminLiveCommerceToken = existInAppToken || 'null'.replace(/\\\"/g, \"\") || null\n",
       "        const adminToken = document.cookie.match('(^|;) ?adminLiveCommerceToken=([^;]*)(;|$)');\n",
       "        const notAuthorizedAdmin = !adminLiveCommerceToken || adminLiveCommerceToken === 'null'\n",
       "        const existToken = adminToken && (adminToken[2] !== 'undefined' || adminToken[2] !== 'null') ? adminToken[2] : null\n",
       "\n",
       "        if (message && message !== 'null') {\n",
       "            window.__notAuthorizedMessage = message\n",
       "            document.cookie = 'notAuthorized=' + !!message + setExpireCookie(1) + '; path=/;'\n",
       "        } else if (!notAuthorizedAdmin) {\n",
       "            window.__notAuthorizedMessage = null\n",
       "            document.cookie = 'notAuthorized=false' + setExpireCookie(1) + '; path=/;'\n",
       "        }\n",
       "\n",
       "        if (!existToken || (!notAuthorizedAdmin && existToken !== adminLiveCommerceToken)) {\n",
       "            document.cookie = 'adminLiveCommerceToken=' + adminLiveCommerceToken + setExpireCookie(1) + '; path=/;'\n",
       "        }\n",
       "\n",
       "        window.__adminLoginInfoStr = adminLoginInfo;\n",
       "        window.__adminLoginInfo = JSON.parse(adminLoginInfo);\n",
       "    </script>\n",
       "<link href=\"data:image/x-icon;,\" rel=\"shortcut icon\" type=\"image/x-icon\"/>\n",
       "<!-- beta 의 경우 외부망에 공개가 되어있어 real static server 를 바라봐야한다.  -->\n",
       "<link href=\"https://live-selective.pstatic.net/live-commerce/nweb/css/rb-20221117-221117-152643/bundle.css\" rel=\"stylesheet\" type=\"text/css\"/>\n",
       "<script crossorigin=\"\" defer=\"\" src=\"https://live-selective.pstatic.net/live-commerce/nweb/js/rb-20221117-221117-152643/bundle.js\"></script>\n",
       "<script src=\"https://editor-static.pstatic.net/e/basic.desktop/1.37.1/se-launcher.js\" type=\"text/javascript\"></script>\n",
       "<script charset=\"utf-8\" crossorigin=\"anonymous\" src=\"https://im.pstatic.net/live-commerce/nweb/js/rb-20221117-221117-152643/13.js\"></script><link crossorigin=\"anonymous\" href=\"https://im.pstatic.net/live-commerce/nweb/js/rb-20221117-221117-152643/19.css\" rel=\"stylesheet\" type=\"text/css\"/><script charset=\"utf-8\" crossorigin=\"anonymous\" src=\"https://im.pstatic.net/live-commerce/nweb/js/rb-20221117-221117-152643/19.js\"></script><style type=\"text/css\">/* Chart.js */\n",
       "/*\n",
       " * DOM element rendering detection\n",
       " * https://davidwalsh.name/detect-node-insertion\n",
       " */\n",
       "@keyframes chartjs-render-animation {\n",
       "\tfrom { opacity: 0.99; }\n",
       "\tto { opacity: 1; }\n",
       "}\n",
       "\n",
       ".chartjs-render-monitor {\n",
       "\tanimation: chartjs-render-animation 0.001s;\n",
       "}\n",
       "\n",
       "/*\n",
       " * DOM element resizing detection\n",
       " * https://github.com/marcj/css-element-queries\n",
       " */\n",
       ".chartjs-size-monitor,\n",
       ".chartjs-size-monitor-expand,\n",
       ".chartjs-size-monitor-shrink {\n",
       "\tposition: absolute;\n",
       "\tdirection: ltr;\n",
       "\tleft: 0;\n",
       "\ttop: 0;\n",
       "\tright: 0;\n",
       "\tbottom: 0;\n",
       "\toverflow: hidden;\n",
       "\tpointer-events: none;\n",
       "\tvisibility: hidden;\n",
       "\tz-index: -1;\n",
       "}\n",
       "\n",
       ".chartjs-size-monitor-expand > div {\n",
       "\tposition: absolute;\n",
       "\twidth: 1000000px;\n",
       "\theight: 1000000px;\n",
       "\tleft: 0;\n",
       "\ttop: 0;\n",
       "}\n",
       "\n",
       ".chartjs-size-monitor-shrink > div {\n",
       "\tposition: absolute;\n",
       "\twidth: 200%;\n",
       "\theight: 200%;\n",
       "\tleft: 0;\n",
       "\ttop: 0;\n",
       "}\n",
       "</style></head>\n",
       "<body class=\"broadcast\">\n",
       "<div id=\"root\"><div class=\"BaseLayout_u_skip_3Hida\"><a href=\"#content\"><span>본문 바로가기</span></a></div><div class=\"BaseLayout_wrap_xG9mm\"><header class=\"Header_header_KJcma\"><div class=\"Header_inner_2LhsQ\"><h1 class=\"Header_title_2fU6p\"><a class=\"Header_link_2XXiT\" href=\"https://shoppinglive.naver.com\"><i class=\"Header_icon_2JHHl\"></i><span class=\"blind\">쇼핑라이브</span></a><a class=\"Header_link_2XXiT\" href=\"/broadcasts\"><i class=\"Header_icon_text_1evCC\"></i><span class=\"blind\">관리툴</span></a></h1><a class=\"Header_link_solution_2nd7A\" href=\"/live-solution\"><i class=\"Header_icon_solution_RMsqT\"></i><span class=\"blind\">라이브 솔루션</span></a><div class=\"Header_box_2czR2\"><button class=\"Header_button_3zjFT\" type=\"button\">톡톡 관리</button><button class=\"Header_button_3zjFT\" type=\"button\">기기 관리</button></div></div></header><div class=\"BaseLayout_content_ER295\" id=\"content\" role=\"main\"><div class=\"SummaryWrapper_wrap_3clXx\"><div class=\"SummaryWrapper_head_3mVd0\"><div class=\"SummaryWrapper_thumbnail_3SgNI\"><img alt=\"제스프리 브랜드스토어의 프로필\" class=\"SummaryWrapper_image_1Jcmq\" draggable=\"false\" height=\"34\" src=\"https://phinf.pstatic.net/dthumb/?src=%22http%3A%2F%2Fshop1.phinf.naver.net%2F20210422_300%2F1619070021582unhAe_JPEG%2F20205849400625813_1868804382.jpg%22&amp;service=selective&amp;type=f80_80_q90\" width=\"34\"/></div><h2 class=\"SummaryWrapper_title_17gTd\"><span class=\"SummaryWrapper_nickname_25W0n\">제스프리 브랜드스토어</span><span class=\"SummaryWrapper_text_2cdKd\">의 전체 라이브 통계</span></h2></div><div class=\"StatBox_wrap_sSgf4 AllStatSummary_wrap_u3oAW\"><div class=\"StatTitle_wrap_1IXCq\"><h3 class=\"StatTitle_title_28vQc\">라이브 개요</h3><button aria-haspopup=\"true\" class=\"StatTitle_button_1vERb\" type=\"button\"><i class=\"StatTitle_icon_2RDec\"></i><span class=\"blind\">안내</span></button></div><div class=\"StatSummaryItem_wrap_3FJDr\"><div class=\"StatSummaryItem_item_3DEnw AllStatSummary_item_1aYsJ\"><span class=\"StatSummaryItem_name_YwhUY\">전체 방송수</span><strong class=\"StatSummaryItem_value_1s7PV\">29<span class=\"StatSummaryItem_unit_2fvCN\">개</span></strong></div><div class=\"StatSummaryItem_item_3DEnw AllStatSummary_item_1aYsJ\"><span class=\"StatSummaryItem_name_YwhUY\">전체 시청수</span><strong class=\"StatSummaryItem_value_1s7PV\">81,853<span class=\"StatSummaryItem_unit_2fvCN\">뷰</span></strong></div><div class=\"StatSummaryItem_item_3DEnw AllStatSummary_item_1aYsJ\"><span class=\"StatSummaryItem_name_YwhUY\">전체 알림 설정수</span><strong class=\"StatSummaryItem_value_1s7PV\">30,434<span class=\"StatSummaryItem_unit_2fvCN\">명</span></strong></div></div></div><div class=\"StatBox_wrap_sSgf4 AverageStatSummary_wrap_1dnBc\"><div class=\"StatTitle_wrap_1IXCq\"><h3 class=\"StatTitle_title_28vQc\">라이브 평균 통계</h3><button aria-haspopup=\"true\" class=\"StatTitle_button_1vERb\" type=\"button\"><i class=\"StatTitle_icon_2RDec\"></i><span class=\"blind\">안내</span></button></div><div class=\"StatSummaryItem_wrap_3FJDr\"><div class=\"StatSummaryItem_item_3DEnw AverageStatSummary_item_3Bimm\"><span class=\"StatSummaryItem_name_YwhUY\">평균 시청수</span><strong class=\"StatSummaryItem_value_1s7PV\">2,823<span class=\"StatSummaryItem_unit_2fvCN\">뷰</span></strong></div><div class=\"StatSummaryItem_item_3DEnw AverageStatSummary_item_3Bimm\"><span class=\"StatSummaryItem_name_YwhUY\">평균 채팅수</span><strong class=\"StatSummaryItem_value_1s7PV\">1,002<span class=\"StatSummaryItem_unit_2fvCN\">개</span></strong></div><div class=\"StatSummaryItem_item_3DEnw AverageStatSummary_item_3Bimm\"><span class=\"StatSummaryItem_name_YwhUY\">평균 결제자수</span><strong class=\"StatSummaryItem_value_1s7PV\">319<span class=\"StatSummaryItem_unit_2fvCN\">명</span></strong></div><div class=\"StatSummaryItem_item_3DEnw AverageStatSummary_item_3Bimm\"><span class=\"StatSummaryItem_name_YwhUY\">평균 결제상품수</span><strong class=\"StatSummaryItem_value_1s7PV\">421<span class=\"StatSummaryItem_unit_2fvCN\">개</span></strong></div><div class=\"StatSummaryItem_item_3DEnw AverageStatSummary_item_3Bimm\"><span class=\"StatSummaryItem_name_YwhUY\">평균 결제금액</span><strong class=\"StatSummaryItem_value_1s7PV\">11,285,637<span class=\"StatSummaryItem_unit_2fvCN\">원</span></strong></div></div></div></div><div class=\"StatisticsWrapper_wrap_1th8n\"><h2 class=\"StatisticsWrapper_title_KxBD9\">굿바이,뉴질랜드 골드키위🖐</h2><div class=\"StatisticsWrapper_date_o1Kcb\"><time class=\"StatisticsWrapper_time_2u-vj\" datetime=\"2022-11-09T19:00:05.576\">2022.11.09 19:00</time><a class=\"StatisticsWrapper_link_NuE2d\" href=\"#\" rel=\"noreferrer\" target=\"_blank\">라이브 다시보기</a></div><div class=\"StatisticsWrapper_data_1eO_g\"><h3 class=\"StatisticsWrapper_subtitle_392oS\">라이브 상태별 데이터</h3><span class=\"StatisticsWrapper_desc_1QLa-\"><time datetime=\"2022.11.23 17:00:00\">2022.11.23 17:00:00</time>에 데이터 업데이트</span><div class=\"StatisticsWrapper_selectbox_1ggNo\"><a aria-expanded=\"false\" aria-haspopup=\"listbox\" aria-label=\"라이브 상태를 선택하세요\" aria-pressed=\"false\" class=\"StatisticsWrapper_label_39Vsw\" href=\"#\" id=\"wa-status-selectbox\" role=\"button\"><span class=\"StatisticsWrapper_status_23OlG\">라이브중</span><span class=\"StatisticsWrapper_text_bDU_f\">라이브 시작 ~ 종료</span><i class=\"StatisticsWrapper_icon_3uKd4\"></i></a><div aria-hidden=\"true\" aria-labelledby=\"wa-date-selectbox\" class=\"StatisticsWrapper_listbox_1yS1n\" role=\"listbox\"><a aria-selected=\"false\" class=\"StatisticsWrapper_option_2U-Gb\" href=\"#\" role=\"option\"><span class=\"StatisticsWrapper_status_23OlG\">전체</span><span class=\"StatisticsWrapper_text_bDU_f\">라이브 대기 ~ 현재</span></a><a aria-selected=\"false\" class=\"StatisticsWrapper_option_2U-Gb\" href=\"#\" role=\"option\"><span class=\"StatisticsWrapper_status_23OlG\">라이브전</span><span class=\"StatisticsWrapper_text_bDU_f\">라이브 대기</span></a><a aria-selected=\"true\" class=\"StatisticsWrapper_option_2U-Gb\" href=\"#\" role=\"option\"><span class=\"StatisticsWrapper_status_23OlG\">라이브중</span><span class=\"StatisticsWrapper_text_bDU_f\">라이브 시작 ~ 종료</span></a><a aria-selected=\"false\" class=\"StatisticsWrapper_option_2U-Gb\" href=\"#\" role=\"option\"><span class=\"StatisticsWrapper_status_23OlG\">라이브후</span><span class=\"StatisticsWrapper_text_bDU_f\">라이브 종료 ~ 현재</span></a><i class=\"StatisticsWrapper_icon_3uKd4\"></i></div></div></div><div class=\"StatBox_wrap_sSgf4 BroadcastPaymentStat_wrap_2BUj9\"><div class=\"StatTitle_wrap_1IXCq\"><h4 class=\"StatTitle_title_28vQc\">결제 통계</h4><button aria-haspopup=\"true\" class=\"StatTitle_button_1vERb\" type=\"button\"><i class=\"StatTitle_icon_2RDec\"></i><span class=\"blind\">안내</span></button></div><div class=\"BroadcastPaymentStat_box_3waCZ\"><div class=\"BroadcastPaymentStat_item_1Qzx0\"><div class=\"BroadcastPaymentStat_name_26_vd\"><button aria-haspopup=\"dialog\" class=\"BroadcastPaymentStat_button_3-gtb\" type=\"button\">결제 금액</button></div><div class=\"BroadcastPaymentStat_number_-uioU\"><strong class=\"EllipsisText_wrap_1mgOs BroadcastPaymentStat_value_WU3V-\"><span class=\"EllipsisText_ellipsis_2y20w\">10,455,240</span><span class=\"BroadcastPaymentStat_unit_dgvGg\">원</span></strong><span class=\"BroadcastPaymentStat_gift_3zRon\">(선물하기 2.45%)</span></div></div><div class=\"BroadcastPaymentStat_item_1Qzx0\"><div class=\"BroadcastPaymentStat_name_26_vd\"><button aria-haspopup=\"dialog\" class=\"BroadcastPaymentStat_button_3-gtb\" type=\"button\">상품 조회수</button></div><div class=\"BroadcastPaymentStat_number_-uioU\"><strong class=\"EllipsisText_wrap_1mgOs BroadcastPaymentStat_value_WU3V-\"><span class=\"EllipsisText_ellipsis_2y20w\">2,059</span><span class=\"BroadcastPaymentStat_unit_dgvGg\">회</span></strong><div class=\"EllipsisText_wrap_1mgOs BroadcastPaymentStat_user_1vWK7\"><span class=\"EllipsisText_ellipsis_2y20w\">(655명)</span></div></div></div><div class=\"BroadcastPaymentStat_item_1Qzx0\"><div class=\"BroadcastPaymentStat_name_26_vd\"><span class=\"BroadcastPaymentStat_text_Lib5U\">배너 조회수</span></div><div class=\"BroadcastPaymentStat_number_-uioU\"><strong class=\"EllipsisText_wrap_1mgOs BroadcastPaymentStat_value_WU3V-\"><span class=\"EllipsisText_ellipsis_2y20w\">0</span><span class=\"BroadcastPaymentStat_unit_dgvGg\">회</span></strong></div></div><div class=\"BroadcastPaymentStat_item_1Qzx0\"><div class=\"BroadcastPaymentStat_name_26_vd\"><button aria-haspopup=\"dialog\" class=\"BroadcastPaymentStat_button_3-gtb\" type=\"button\">결제 상품수</button></div><div class=\"BroadcastPaymentStat_number_-uioU\"><strong class=\"EllipsisText_wrap_1mgOs BroadcastPaymentStat_value_WU3V-\"><span class=\"EllipsisText_ellipsis_2y20w\">428</span><span class=\"BroadcastPaymentStat_unit_dgvGg\">개</span></strong><div class=\"EllipsisText_wrap_1mgOs BroadcastPaymentStat_user_1vWK7\"><span class=\"EllipsisText_ellipsis_2y20w\">(296명)</span></div></div></div></div></div><div class=\"StatBox_wrap_sSgf4 BroadcastViewStat_wrap_3AQSe\"><div class=\"StatTitle_wrap_1IXCq\"><h4 class=\"StatTitle_title_28vQc\">시청/알림 통계</h4><button aria-haspopup=\"true\" class=\"StatTitle_button_1vERb\" type=\"button\"><i class=\"StatTitle_icon_2RDec\"></i><span class=\"blind\">안내</span></button></div><div class=\"StatList_wrap_wOv3- StatList_type_vertical_3w-Nu BroadcastViewStat_list_1U5Q0\"><div class=\"StatList_item_1nAkC BroadcastViewStat_item_38tpx\"><span class=\"StatList_name_1m1Br BroadcastViewStat_name_2NTb9\">시청수</span><div class=\"StatList_number_3xNlR\"><strong class=\"EllipsisText_wrap_1mgOs StatList_value_6yC7P\"><span class=\"EllipsisText_ellipsis_2y20w\">1,525</span><span>뷰</span></strong></div></div><div class=\"StatList_item_1nAkC BroadcastViewStat_item_38tpx\"><span class=\"StatList_name_1m1Br BroadcastViewStat_name_2NTb9\">시청수 (로그인)</span><div class=\"StatList_number_3xNlR\"><strong class=\"EllipsisText_wrap_1mgOs StatList_value_6yC7P\"><span class=\"EllipsisText_ellipsis_2y20w\">1,282</span><span>뷰</span></strong></div></div><div class=\"StatList_item_1nAkC BroadcastViewStat_item_38tpx\"><span class=\"StatList_name_1m1Br BroadcastViewStat_name_2NTb9\">시청수 (비로그인)</span><div class=\"StatList_number_3xNlR\"><strong class=\"EllipsisText_wrap_1mgOs StatList_value_6yC7P\"><span class=\"EllipsisText_ellipsis_2y20w\">243</span><span>뷰</span></strong></div></div><div class=\"StatList_item_1nAkC BroadcastViewStat_item_38tpx\"><span class=\"StatList_name_1m1Br BroadcastViewStat_name_2NTb9\">최고 동접자수</span><div class=\"StatList_number_3xNlR\"><strong class=\"EllipsisText_wrap_1mgOs StatList_value_6yC7P\"><span class=\"EllipsisText_ellipsis_2y20w\">157</span><span>명</span></strong></div></div><div class=\"StatList_item_1nAkC BroadcastViewStat_item_38tpx\"><span class=\"StatList_name_1m1Br BroadcastViewStat_name_2NTb9\">전체 알림 설정수</span><div class=\"StatList_number_3xNlR\"><strong class=\"EllipsisText_wrap_1mgOs StatList_value_6yC7P\"><span class=\"EllipsisText_ellipsis_2y20w\">30,469</span><span>명</span></strong></div></div><div class=\"StatList_item_1nAkC BroadcastViewStat_item_38tpx\"><span class=\"StatList_name_1m1Br BroadcastViewStat_name_2NTb9\">신규 알림 설정수</span><div class=\"StatList_number_3xNlR\"><strong class=\"EllipsisText_wrap_1mgOs StatList_value_6yC7P\"><span class=\"EllipsisText_ellipsis_2y20w\">7</span><span>명</span></strong></div></div></div></div><div class=\"StatBox_wrap_sSgf4 UserWatchAndPurchaseStat_wrap_1EMg7\"><div class=\"StatTitle_wrap_1IXCq\"><h4 class=\"StatTitle_title_28vQc\">시청/구매 통계</h4><button aria-haspopup=\"true\" class=\"StatTitle_button_1vERb\" type=\"button\"><i class=\"StatTitle_icon_2RDec\"></i><span class=\"blind\">안내</span></button></div><div class=\"UserWatchAndPurchaseStat_legend_2tBHL\"><span class=\"UserWatchAndPurchaseStat_key_kihCh\">남성<span class=\"blind\">60대+: 30명50대: 37명40대: 70명30대: 55명20대: 17명10대: 4명</span></span><span class=\"UserWatchAndPurchaseStat_key_kihCh\">구매남성<span class=\"blind\">60대+: 2명50대: 7명40대: 13명30대: 14명20대: 1명10대: 0명</span></span><span class=\"UserWatchAndPurchaseStat_key_kihCh\">여성<span class=\"blind\">60대+: 38명50대: 167명40대: 464명30대: 304명20대: 69명10대: 5명</span></span><span class=\"UserWatchAndPurchaseStat_key_kihCh\">구매여성<span class=\"blind\">60대+: 5명50대: 27명40대: 118명30대: 85명20대: 24명10대: 0명</span></span></div><div class=\"UserWatchAndPurchaseStat_chart_1v-uS\"><div class=\"chartjs-size-monitor\"><div class=\"chartjs-size-monitor-expand\"><div class=\"\"></div></div><div class=\"chartjs-size-monitor-shrink\"><div class=\"\"></div></div></div><canvas class=\"chartjs-render-monitor\" height=\"252\" style=\"display: block; width: 706px; height: 252px;\" width=\"706\"></canvas></div></div><div class=\"StatBox_wrap_sSgf4 BroadcastRefererStat_wrap_zTC1I\"><div class=\"StatTitle_wrap_1IXCq\"><h4 class=\"StatTitle_title_28vQc\">유입경로별 전체 유니크 뷰수</h4><button aria-haspopup=\"true\" class=\"StatTitle_button_1vERb\" type=\"button\"><i class=\"StatTitle_icon_2RDec\"></i><span class=\"blind\">안내</span></button></div><button aria-haspopup=\"dialog\" class=\"ShowAllButton_wrap_26R_u\" type=\"button\">전체보기<i class=\"ShowAllButton_icon_2LeaX\"></i></button><div class=\"BroadcastRefererStat_tablist_2IRKF\" role=\"tablist\"><a aria-controls=\"wa_referer_tabpanel_BRIDGE\" aria-selected=\"false\" class=\"BroadcastRefererStat_tab_3P0-8\" href=\"#\" id=\"wa_referer_tab_BRIDGE\" role=\"tab\">예고</a><a aria-controls=\"wa_referer_tabpanel_ON_AIR\" aria-selected=\"true\" class=\"BroadcastRefererStat_tab_3P0-8\" href=\"#\" id=\"wa_referer_tab_ON_AIR\" role=\"tab\">온에어</a><a aria-controls=\"wa_referer_tabpanel_REPLAY\" aria-selected=\"false\" class=\"BroadcastRefererStat_tab_3P0-8\" href=\"#\" id=\"wa_referer_tab_REPLAY\" role=\"tab\">다시보기</a></div><div aria-labelledby=\"wa_referer_tab_ON_AIR\" class=\"BroadcastRefererStat_tabpanel_187JO\" id=\"wa_referer_tabpanel_ON_AIR\" role=\"tabpanel\"><div class=\"PercentChart_wrap_KABC0 PercentChart_is_variety_YI7aB BroadcastRefererStat_percent_ioc7d\"><div class=\"PercentChart_title_3i_Ai\"><button aria-haspopup=\"dialog\" class=\"PercentChart_button_2_4K-\" type=\"button\">알림</button></div><div class=\"PercentChart_bar_3OGk3\"><div class=\"PercentChart_fill_3DLUx\" style=\"width: 66.6%;\"></div></div><strong class=\"PercentChart_percent_2NgDm PercentChart_is_long_1egtm\">66.6 %</strong></div><div class=\"PercentChart_wrap_KABC0 PercentChart_is_variety_YI7aB BroadcastRefererStat_percent_ioc7d\"><div class=\"PercentChart_title_3i_Ai\"><button aria-haspopup=\"dialog\" class=\"PercentChart_button_2_4K-\" type=\"button\">쇼핑라이브</button></div><div class=\"PercentChart_bar_3OGk3\"><div class=\"PercentChart_fill_3DLUx\" style=\"width: 26%;\"></div></div><strong class=\"PercentChart_percent_2NgDm PercentChart_is_long_1egtm\">26 %</strong></div><div class=\"PercentChart_wrap_KABC0 PercentChart_is_variety_YI7aB BroadcastRefererStat_percent_ioc7d\"><div class=\"PercentChart_title_3i_Ai\"><button aria-haspopup=\"dialog\" class=\"PercentChart_button_2_4K-\" type=\"button\">메인</button></div><div class=\"PercentChart_bar_3OGk3\"><div class=\"PercentChart_fill_3DLUx\" style=\"width: 4.7%;\"></div></div><strong class=\"PercentChart_percent_2NgDm PercentChart_is_long_1egtm\">4.7 %</strong></div><div class=\"PercentChart_wrap_KABC0 PercentChart_is_variety_YI7aB BroadcastRefererStat_percent_ioc7d\"><div class=\"PercentChart_title_3i_Ai\"><button aria-haspopup=\"dialog\" class=\"PercentChart_button_2_4K-\" type=\"button\">네이버 쇼핑</button></div><div class=\"PercentChart_bar_3OGk3\"><div class=\"PercentChart_fill_3DLUx\" style=\"width: 1.7%;\"></div></div><strong class=\"PercentChart_percent_2NgDm PercentChart_is_long_1egtm\">1.7 %</strong></div><div class=\"PercentChart_wrap_KABC0 PercentChart_is_variety_YI7aB BroadcastRefererStat_percent_ioc7d\"><div class=\"PercentChart_title_3i_Ai\"><button aria-haspopup=\"dialog\" class=\"PercentChart_button_2_4K-\" type=\"button\">검색</button></div><div class=\"PercentChart_bar_3OGk3\"><div class=\"PercentChart_fill_3DLUx\" style=\"width: 0.3%;\"></div></div><strong class=\"PercentChart_percent_2NgDm PercentChart_is_long_1egtm\">0.3 %</strong></div><div class=\"PercentChart_wrap_KABC0 PercentChart_is_variety_YI7aB BroadcastRefererStat_percent_ioc7d\"><div class=\"PercentChart_title_3i_Ai\"><button aria-haspopup=\"dialog\" class=\"PercentChart_button_2_4K-\" type=\"button\">oquiz_ad</button></div><div class=\"PercentChart_bar_3OGk3\"><div class=\"PercentChart_fill_3DLUx\" style=\"width: 0.2%;\"></div></div><strong class=\"PercentChart_percent_2NgDm PercentChart_is_long_1egtm\">0.2 %</strong></div><div class=\"PercentChart_wrap_KABC0 PercentChart_is_variety_YI7aB BroadcastRefererStat_percent_ioc7d\"><div class=\"PercentChart_title_3i_Ai\"><button aria-haspopup=\"dialog\" class=\"PercentChart_button_2_4K-\" type=\"button\">nexthub_ad</button></div><div class=\"PercentChart_bar_3OGk3\"><div class=\"PercentChart_fill_3DLUx\" style=\"width: 0.2%;\"></div></div><strong class=\"PercentChart_percent_2NgDm PercentChart_is_long_1egtm\">0.2 %</strong></div><div class=\"PercentChart_wrap_KABC0 PercentChart_is_variety_YI7aB BroadcastRefererStat_percent_ioc7d\"><div class=\"PercentChart_title_3i_Ai\"><button aria-haspopup=\"dialog\" class=\"PercentChart_button_2_4K-\" type=\"button\">none</button></div><div class=\"PercentChart_bar_3OGk3\"><div class=\"PercentChart_fill_3DLUx\" style=\"width: 0.1%;\"></div></div><strong class=\"PercentChart_percent_2NgDm PercentChart_is_long_1egtm\">0.1 %</strong></div><div class=\"PercentChart_wrap_KABC0 PercentChart_is_variety_YI7aB BroadcastRefererStat_percent_ioc7d\"><div class=\"PercentChart_title_3i_Ai\"><button aria-haspopup=\"dialog\" class=\"PercentChart_button_2_4K-\" type=\"button\">네이버 모바일 광고</button></div><div class=\"PercentChart_bar_3OGk3\"><div class=\"PercentChart_fill_3DLUx\" style=\"width: 0.1%;\"></div></div><strong class=\"PercentChart_percent_2NgDm PercentChart_is_long_1egtm\">0.1 %</strong></div></div></div><h3 class=\"StatAreaTitle_wrap_3nxMl\">라이브 사용자 데이터</h3><div class=\"StatBox_wrap_sSgf4 UserRatioBox_wrap_3bSas\"><div class=\"StatTitle_wrap_1IXCq\"><h4 class=\"StatTitle_title_28vQc\">플랫폼 사용비중</h4><button aria-haspopup=\"true\" class=\"StatTitle_button_1vERb\" type=\"button\"><i class=\"StatTitle_icon_2RDec\"></i><span class=\"blind\">안내</span></button></div><button aria-haspopup=\"dialog\" class=\"ShowAllButton_wrap_26R_u\" type=\"button\">전체보기<i class=\"ShowAllButton_icon_2LeaX\"></i></button><div class=\"UserRatioBox_doughnut_3baUe\"><div class=\"chartjs-size-monitor\"><div class=\"chartjs-size-monitor-expand\"><div class=\"\"></div></div><div class=\"chartjs-size-monitor-shrink\"><div class=\"\"></div></div></div><span class=\"DoughnutChart_label_3H94Q\">플랫폼<br aria-hidden=\"true\" class=\"\"/>사용비중</span><canvas class=\"chartjs-render-monitor\" height=\"181\" style=\"display: block; width: 212px; height: 181px;\" width=\"212\"></canvas></div><div><div class=\"PercentChart_wrap_KABC0 PercentChart_is_variety_YI7aB UserRatioBox_percent_38kj_\"><div class=\"PercentChart_title_3i_Ai\"><span class=\"PercentChart_text_3Amrx\">Android</span></div><div class=\"PercentChart_bar_3OGk3\"><div class=\"PercentChart_fill_3DLUx\" style=\"width: 73.7%;\"></div></div><strong class=\"PercentChart_percent_2NgDm\">73.7 %</strong></div><div class=\"PercentChart_wrap_KABC0 PercentChart_is_variety_YI7aB UserRatioBox_percent_38kj_\"><div class=\"PercentChart_title_3i_Ai\"><span class=\"PercentChart_text_3Amrx\">iOS</span></div><div class=\"PercentChart_bar_3OGk3\"><div class=\"PercentChart_fill_3DLUx\" style=\"width: 21.6%;\"></div></div><strong class=\"PercentChart_percent_2NgDm\">21.6 %</strong></div><div class=\"PercentChart_wrap_KABC0 PercentChart_is_variety_YI7aB UserRatioBox_percent_38kj_\"><div class=\"PercentChart_title_3i_Ai\"><span class=\"PercentChart_text_3Amrx\">Win10</span></div><div class=\"PercentChart_bar_3OGk3\"><div class=\"PercentChart_fill_3DLUx\" style=\"width: 4.1%;\"></div></div><strong class=\"PercentChart_percent_2NgDm\">4.1 %</strong></div><div class=\"PercentChart_wrap_KABC0 PercentChart_is_variety_YI7aB UserRatioBox_percent_38kj_\"><div class=\"PercentChart_title_3i_Ai\"><span class=\"PercentChart_text_3Amrx\">Linux</span></div><div class=\"PercentChart_bar_3OGk3\"><div class=\"PercentChart_fill_3DLUx\" style=\"width: 0.3%;\"></div></div><strong class=\"PercentChart_percent_2NgDm\">0.3 %</strong></div></div></div><div class=\"StatBox_wrap_sSgf4 UserRatioBox_wrap_3bSas\"><div class=\"StatTitle_wrap_1IXCq\"><h4 class=\"StatTitle_title_28vQc\">브라우저 사용비중</h4><button aria-haspopup=\"true\" class=\"StatTitle_button_1vERb\" type=\"button\"><i class=\"StatTitle_icon_2RDec\"></i><span class=\"blind\">안내</span></button></div><button aria-haspopup=\"dialog\" class=\"ShowAllButton_wrap_26R_u\" type=\"button\">전체보기<i class=\"ShowAllButton_icon_2LeaX\"></i></button><div class=\"UserRatioBox_doughnut_3baUe\"><div class=\"chartjs-size-monitor\"><div class=\"chartjs-size-monitor-expand\"><div class=\"\"></div></div><div class=\"chartjs-size-monitor-shrink\"><div class=\"\"></div></div></div><span class=\"DoughnutChart_label_3H94Q\">브라우저<br aria-hidden=\"true\" class=\"\"/>사용비중</span><canvas class=\"chartjs-render-monitor\" height=\"181\" style=\"display: block; width: 212px; height: 181px;\" width=\"212\"></canvas></div><div><div class=\"PercentChart_wrap_KABC0 PercentChart_is_variety_YI7aB UserRatioBox_percent_38kj_\"><div class=\"PercentChart_title_3i_Ai\"><span class=\"PercentChart_text_3Amrx\">Naver</span></div><div class=\"PercentChart_bar_3OGk3\"><div class=\"PercentChart_fill_3DLUx\" style=\"width: 57.1%;\"></div></div><strong class=\"PercentChart_percent_2NgDm\">57.1 %</strong></div><div class=\"PercentChart_wrap_KABC0 PercentChart_is_variety_YI7aB UserRatioBox_percent_38kj_\"><div class=\"PercentChart_title_3i_Ai\"><span class=\"PercentChart_text_3Amrx\">Safari</span></div><div class=\"PercentChart_bar_3OGk3\"><div class=\"PercentChart_fill_3DLUx\" style=\"width: 20%;\"></div></div><strong class=\"PercentChart_percent_2NgDm\">20 %</strong></div><div class=\"PercentChart_wrap_KABC0 PercentChart_is_variety_YI7aB UserRatioBox_percent_38kj_\"><div class=\"PercentChart_title_3i_Ai\"><span class=\"PercentChart_text_3Amrx\">Samsung Browser</span></div><div class=\"PercentChart_bar_3OGk3\"><div class=\"PercentChart_fill_3DLUx\" style=\"width: 11.5%;\"></div></div><strong class=\"PercentChart_percent_2NgDm\">11.5 %</strong></div><div class=\"PercentChart_wrap_KABC0 PercentChart_is_variety_YI7aB UserRatioBox_percent_38kj_\"><div class=\"PercentChart_title_3i_Ai\"><span class=\"PercentChart_text_3Amrx\">Chrome</span></div><div class=\"PercentChart_bar_3OGk3\"><div class=\"PercentChart_fill_3DLUx\" style=\"width: 5.3%;\"></div></div><strong class=\"PercentChart_percent_2NgDm\">5.3 %</strong></div></div></div><div class=\"StatBox_wrap_sSgf4 UserActionStat_wrap_2egyA\"><div class=\"StatTitle_wrap_1IXCq\"><h4 class=\"StatTitle_title_28vQc\">사용자 액션</h4><button aria-haspopup=\"true\" class=\"StatTitle_button_1vERb\" type=\"button\"><i class=\"StatTitle_icon_2RDec\"></i><span class=\"blind\">안내</span></button></div><div class=\"StatList_wrap_wOv3- StatList_type_vertical_3w-Nu\"><div class=\"StatList_item_1nAkC StatList_has_person_3CC8_\"><span class=\"StatList_name_1m1Br\">채팅</span><div class=\"StatList_number_3xNlR\"><strong class=\"EllipsisText_wrap_1mgOs StatList_value_6yC7P\"><span class=\"EllipsisText_ellipsis_2y20w\">1,352</span><span>회</span></strong><div class=\"EllipsisText_wrap_1mgOs StatList_person_290tm\"><span class=\"EllipsisText_ellipsis_2y20w\">(183</span><span>명)</span></div></div></div><div class=\"StatList_item_1nAkC StatList_has_person_3CC8_\"><span class=\"StatList_name_1m1Br\">좋아요</span><div class=\"StatList_number_3xNlR\"><strong class=\"EllipsisText_wrap_1mgOs StatList_value_6yC7P\"><span class=\"EllipsisText_ellipsis_2y20w\">10,675</span><span>회</span></strong><div class=\"EllipsisText_wrap_1mgOs StatList_person_290tm\"><span class=\"EllipsisText_ellipsis_2y20w\">(66</span><span>명)</span></div></div></div><div class=\"StatList_item_1nAkC StatList_has_person_3CC8_\"><span class=\"StatList_name_1m1Br\">상품찜</span><div class=\"StatList_number_3xNlR\"><strong class=\"EllipsisText_wrap_1mgOs StatList_value_6yC7P\"><span class=\"EllipsisText_ellipsis_2y20w\">6</span><span>회</span></strong><div class=\"EllipsisText_wrap_1mgOs StatList_person_290tm\"><span class=\"EllipsisText_ellipsis_2y20w\">(6</span><span>명)</span></div></div></div></div></div><h3 class=\"StatAreaTitle_wrap_3nxMl\">라이브 온에어 데이터</h3><div class=\"StatBox_wrap_sSgf4 BroadcastTrendStat_wrap_2dBA6\"><div class=\"StatTitle_wrap_1IXCq\"><h4 class=\"StatTitle_title_28vQc\">재생 구간별 추이</h4><button aria-haspopup=\"true\" class=\"StatTitle_button_1vERb\" type=\"button\"><i class=\"StatTitle_icon_2RDec\"></i><span class=\"blind\">안내</span></button></div><div class=\"BroadcastTrendStat_person_3GUOG\"><button aria-expanded=\"false\" aria-haspopup=\"dialog\" aria-pressed=\"false\" class=\"BroadcastTrendStat_button_label_3QVQY\" type=\"button\">성별 및 연령<i class=\"BroadcastTrendStat_icon_1Yu8O\"></i></button><div class=\"BroadcastTrendStat_box_3sFlw\"><div class=\"BroadcastTrendStat_filter_3lUfz\"><strong class=\"BroadcastTrendStat_label_filter_2GMZD\">성별</strong><div><span class=\"SquareCheckbox_wrap_pKVd8 SquareCheckbox_color_greyscale_light900_2fBZs\"><input checked=\"\" class=\"SquareCheckbox_input_1dMhx\" id=\"genderlist-checkbox-0\" name=\"genderlist\" type=\"checkbox\" value=\"전체\"/><label class=\"SquareCheckbox_label_2skDz\" for=\"genderlist-checkbox-0\">전체</label></span><span class=\"SquareCheckbox_wrap_pKVd8 SquareCheckbox_color_greyscale_light900_2fBZs\"><input checked=\"\" class=\"SquareCheckbox_input_1dMhx\" id=\"genderlist-checkbox-1\" name=\"genderlist\" type=\"checkbox\" value=\"여성\"/><label class=\"SquareCheckbox_label_2skDz\" for=\"genderlist-checkbox-1\">여성</label></span><span class=\"SquareCheckbox_wrap_pKVd8 SquareCheckbox_color_greyscale_light900_2fBZs\"><input checked=\"\" class=\"SquareCheckbox_input_1dMhx\" id=\"genderlist-checkbox-2\" name=\"genderlist\" type=\"checkbox\" value=\"남성\"/><label class=\"SquareCheckbox_label_2skDz\" for=\"genderlist-checkbox-2\">남성</label></span></div></div><div class=\"BroadcastTrendStat_filter_3lUfz\"><strong class=\"BroadcastTrendStat_label_filter_2GMZD\">연령</strong><div><span class=\"SquareCheckbox_wrap_pKVd8 SquareCheckbox_color_greyscale_light900_2fBZs\"><input checked=\"\" class=\"SquareCheckbox_input_1dMhx\" id=\"agelist-checkbox-0\" name=\"agelist\" type=\"checkbox\" value=\"전체\"/><label class=\"SquareCheckbox_label_2skDz\" for=\"agelist-checkbox-0\">전체</label></span><span class=\"SquareCheckbox_wrap_pKVd8 SquareCheckbox_color_greyscale_light900_2fBZs\"><input checked=\"\" class=\"SquareCheckbox_input_1dMhx\" id=\"agelist-checkbox-1\" name=\"agelist\" type=\"checkbox\" value=\"10대\"/><label class=\"SquareCheckbox_label_2skDz\" for=\"agelist-checkbox-1\">10대</label></span><span class=\"SquareCheckbox_wrap_pKVd8 SquareCheckbox_color_greyscale_light900_2fBZs\"><input checked=\"\" class=\"SquareCheckbox_input_1dMhx\" id=\"agelist-checkbox-2\" name=\"agelist\" type=\"checkbox\" value=\"20대\"/><label class=\"SquareCheckbox_label_2skDz\" for=\"agelist-checkbox-2\">20대</label></span><br aria-hidden=\"true\" class=\"\"/><span class=\"SquareCheckbox_wrap_pKVd8 SquareCheckbox_color_greyscale_light900_2fBZs\"><input checked=\"\" class=\"SquareCheckbox_input_1dMhx\" id=\"agelist-checkbox-3\" name=\"agelist\" type=\"checkbox\" value=\"30대\"/><label class=\"SquareCheckbox_label_2skDz\" for=\"agelist-checkbox-3\">30대</label></span><span class=\"SquareCheckbox_wrap_pKVd8 SquareCheckbox_color_greyscale_light900_2fBZs\"><input checked=\"\" class=\"SquareCheckbox_input_1dMhx\" id=\"agelist-checkbox-4\" name=\"agelist\" type=\"checkbox\" value=\"40대\"/><label class=\"SquareCheckbox_label_2skDz\" for=\"agelist-checkbox-4\">40대</label></span><span class=\"SquareCheckbox_wrap_pKVd8 SquareCheckbox_color_greyscale_light900_2fBZs\"><input checked=\"\" class=\"SquareCheckbox_input_1dMhx\" id=\"agelist-checkbox-5\" name=\"agelist\" type=\"checkbox\" value=\"50대\"/><label class=\"SquareCheckbox_label_2skDz\" for=\"agelist-checkbox-5\">50대</label></span><span class=\"SquareCheckbox_wrap_pKVd8 SquareCheckbox_color_greyscale_light900_2fBZs\"><input checked=\"\" class=\"SquareCheckbox_input_1dMhx\" id=\"agelist-checkbox-6\" name=\"agelist\" type=\"checkbox\" value=\"60대 이상\"/><label class=\"SquareCheckbox_label_2skDz\" for=\"agelist-checkbox-6\">60대 이상</label></span></div></div></div></div><div class=\"BroadcastTrendStat_action_ciB7j\"><div class=\"BroadcastTrendStat_listbox_q_O0o\" role=\"listbox\"><a aria-selected=\"false\" class=\"BroadcastTrendStat_option_2FI3w\" href=\"#\" role=\"option\">신규유입</a><a aria-selected=\"false\" class=\"BroadcastTrendStat_option_2FI3w\" href=\"#\" role=\"option\">동시접속</a><a aria-selected=\"true\" class=\"BroadcastTrendStat_option_2FI3w\" href=\"#\" role=\"option\">결제</a><a aria-selected=\"false\" class=\"BroadcastTrendStat_option_2FI3w\" href=\"#\" role=\"option\">상품조회</a><a aria-selected=\"false\" class=\"BroadcastTrendStat_option_2FI3w\" href=\"#\" role=\"option\">체류시간</a></div></div><div class=\"BroadcastTrendStat_line_2BHmT\" id=\"chartjs-chart\"><div class=\"chartjs-size-monitor\"><div class=\"chartjs-size-monitor-expand\"><div class=\"\"></div></div><div class=\"chartjs-size-monitor-shrink\"><div class=\"\"></div></div></div><span class=\"blind\">선택한 필터에 따른 데이터를 그래프로 확인할 수 있습니다.</span><canvas class=\"chartjs-render-monitor\" height=\"217\" style=\"display: block; width: 666px; height: 217px;\" width=\"666\"></canvas></div></div></div><div class=\"index_link_wrap_nRAdX\"><a class=\"index_link_6vyDQ\" href=\"/broadcasts?sortType=ALL\">다른 라이브 목록 보러가기<i class=\"index_icon_arrow_AOqK2\"></i></a></div></div><div class=\"SelectStore_wrap_twmFk\"><span class=\"SelectStore_tag_2K3he\" style=\"background-color: rgb(3, 199, 91);\">스마트스토어</span><a class=\"SelectStore_link_13IWe\" href=\"https://shoppinglive.naver.com/channels/69827\">제스프리 브랜드스토어</a></div><div class=\"LinkBox_wrap_2hnNV\"><div class=\"LinkBox_box_3kCo7\"><div class=\"LinkBox_item_IoxiJ\"><a class=\"LinkBox_link_1YdHX\" href=\"https://blog.naver.com/PostList.nhn?blogId=naver_seller&amp;from=postList&amp;categoryNo=118&amp;parentCategoryNo=118\" rel=\"noreferrer\" target=\"_blank\"><i class=\"LinkBox_icon_blog_2qR38\"></i>공식 블로그</a></div><div class=\"LinkBox_item_IoxiJ\"><a class=\"LinkBox_link_1YdHX\" href=\"https://shoppinglive.naver.com/events/support-program\" rel=\"noreferrer\" target=\"_blank\"><i class=\"LinkBox_icon_store_3Vlgz\"></i>판매자 지원프로그램<i class=\"LinkBox_icon_new_3-yYw\"></i><span class=\"blind\">new</span></a></div><div class=\"LinkBox_item_IoxiJ\"><a class=\"LinkBox_link_1YdHX\" href=\"https://partners.naver.com/edu-shopping-live?prm=shopliveweb\" rel=\"noreferrer\" target=\"_blank\"><i class=\"LinkBox_icon_online_M1sFi\"></i>쇼핑라이브 교육</a></div><div class=\"LinkBox_item_IoxiJ\"><a class=\"LinkBox_link_1YdHX\" href=\"https://form.office.naver.com/form/responseView.cmd?formkey=ZWQ0YjVhZTktYTM5Yy00ZDdkLWJlM2YtMzIzMDYzNDI2YjYw&amp;sourceId=editor\" rel=\"noreferrer\" target=\"_blank\"><i class=\"LinkBox_icon_survey_20JbC\"></i>관리툴 사용자 설문</a></div><div class=\"LinkBox_item_IoxiJ\"><a class=\"LinkBox_link_1YdHX\" href=\"https://bizonline.naver.com/nshoppinglive2021-13-operate03\" rel=\"noreferrer\" target=\"_blank\"><i class=\"LinkBox_icon_statistics_1l03N\"></i>추천! 라이브 통계 활용법</a></div><div class=\"LinkBox_item_IoxiJ\"><a class=\"LinkBox_link_1YdHX\" href=\"/live-solution\" rel=\"noreferrer\" target=\"_blank\"><i class=\"LinkBox_icon_solution_2gbdi\"></i>라이브 솔루션<i class=\"LinkBox_icon_new_3-yYw\"></i><span class=\"blind\">new</span></a></div></div></div><div class=\"AppDownloadLink_wrap_1KKtn\"><p class=\"AppDownloadLink_title_1uQkR\">라이브를 시작하려면 먼저 앱을 다운로드 하세요.</p><div class=\"AppDownloadLink_link_wrap_1yz-3\"><a class=\"AppDownloadLink_link_app_Jgoua\" href=\"#\" rel=\"noreferrer\" target=\"_blank\"><i class=\"AppDownloadLink_icon_shoppinglive_Pwksn\"></i>네이버 쇼핑라이브 스튜디오<i class=\"AppDownloadLink_icon_arrow_29fAl\"></i></a><a class=\"AppDownloadLink_link_app_Jgoua\" href=\"#\" rel=\"noreferrer\" target=\"_blank\"><i class=\"AppDownloadLink_icon_store_dsvGS\"></i>네이버 스마트스토어센터<i class=\"AppDownloadLink_icon_arrow_29fAl\"></i></a></div></div><footer class=\"Footer_footer_3Hz0q\"><div class=\"Footer_footer_notice_2WEIs\"><div class=\"Footer_footer_noitce_inner_2piej\"><strong class=\"Footer_footer_notice_title_3Yf-n\">법적고지</strong><a class=\"Footer_footer_notice_link_1I0N9\" href=\"https://m.help.pay.naver.com/faq/list.help?rootCategoryId=10503&amp;faqId=10909\" rel=\"noreferrer\" target=\"_blank\">자세히 보기<i class=\"Footer_footer_notice_icon_39XE1\"></i></a></div><p class=\"Footer_footer_notice_text_1Qt2N\">네이버㈜는 통신판매중개자이며, 통신판매의 당사자가 아닙니다. 상품, 상품정보, 거래에 관한 의무와 책임은 판매자에게 있습니다.</p></div><div class=\"Footer_area_button_3pn34\"><button class=\"Footer_button_3DdnO\" type=\"button\">로그아웃</button><button class=\"Footer_button_3DdnO\" type=\"button\">네이버 쇼핑</button></div><button aria-controls=\"wa_info_text\" aria-pressed=\"false\" class=\"Footer_footer_info_button_25G7J\" type=\"button\">네이버(주) 사업자정보<i class=\"Footer_icon_1CruH\"></i></button><div class=\"Footer_footer_info_text_3BsYz\" id=\"wa_info_text\"><dl class=\"Footer_footer_info_list_E3sxx Footer_window_3JKQb\"><dt>대표이사</dt><dd>최수연</dd><dt>주소</dt><dd>경기도 성남시 분당구 정자일로 95<br/>NAVER 1784, 13561</dd><dt>문의</dt><dd><a href=\"https://m.help.pay.naver.com/mailform.help\" rel=\"noreferrer\" target=\"_blank\">1:1문의 바로가기</a></dd><dt>이메일</dt><dd>helpcustomer@naver.com</dd><dt>사업자등록번호</dt><dd>220-81-62517</dd><dt>통신판매업신고번호</dt><dd>제2006-경기성남-0692호</dd><dt>호스팅 서비스 제공</dt><dd>NAVER Cloud</dd></dl></div><ul class=\"Footer_list_footer_178sJ\"><li class=\"Footer_item_footer_1Wi9m\"><a class=\"Footer_link_20FI5\" href=\"http://www.ftc.go.kr/bizCommPop.do?wrkr_no=2208162517\" rel=\"noreferrer\" target=\"_blank\">사업자정보 확인</a></li><li class=\"Footer_item_footer_1Wi9m\"><a class=\"Footer_link_20FI5\" href=\"https://policy.naver.com/policy/service.html\" rel=\"noreferrer\" target=\"_blank\">네이버약관</a></li><li class=\"Footer_item_footer_1Wi9m\"><a class=\"Footer_link_20FI5\" href=\"https://new-m.pay.naver.com/member/terms-policy/npay-usage\" rel=\"noreferrer\" target=\"_blank\">네이버페이 이용약관</a></li><li class=\"Footer_item_footer_1Wi9m\"><a class=\"Footer_link_20FI5\" href=\"https://shoppinglive.naver.com/term\" rel=\"noreferrer\" target=\"_blank\">쇼핑라이브 이용약관</a></li><li class=\"Footer_item_footer_1Wi9m\"><a class=\"Footer_link_20FI5\" href=\"https://policy.naver.com/policy/privacy.html\" rel=\"noreferrer\" target=\"_blank\"><strong>개인정보처리방침</strong></a></li><li class=\"Footer_item_footer_1Wi9m\"><a class=\"Footer_link_20FI5\" href=\"https://safety.shopping.naver.com\" rel=\"noreferrer\" target=\"_blank\">안전거래센터</a></li><li class=\"Footer_item_footer_1Wi9m\"><a class=\"Footer_link_20FI5\" href=\"https://m.help.naver.com/support/service/main.help?serviceNo=11714\" rel=\"noreferrer\" target=\"_blank\">쇼핑&amp;페이 고객센터</a></li><li class=\"Footer_item_footer_1Wi9m\"><a class=\"Footer_link_20FI5\" href=\"https://help.naver.com/service/21349?lang=ko\" rel=\"noreferrer\" target=\"_blank\">쇼핑라이브 고객센터</a></li><li class=\"Footer_item_footer_1Wi9m\"><a class=\"Footer_link_20FI5\" href=\"https://help.naver.com/service/21349/contents/14583?lang=ko\" rel=\"noreferrer\" target=\"_blank\">창작자 운영정책</a></li><li class=\"Footer_item_footer_1Wi9m\"><a class=\"Footer_link_20FI5\" href=\"tel:1588-3819\">대표전화 1588-3819</a></li></ul><div class=\"Footer_logo_2SHCG\"><a class=\"Footer_footer_logo_link_Rn1pi\" href=\"https://www.navercorp.com/\" rel=\"noopener noreferrer\" target=\"_blank\"><i class=\"Footer_footer_logo_2R6f8\"></i><span class=\"blind\">naver</span></a></div></footer></div></div>\n",
       "<script async=\"\" src=\"https://im.pstatic.net/selective/js/lib/lcslog_v0.12.0.min.js\"></script><script async=\"\" src=\"https://im.pstatic.net/selective/js/lib/nclk_v0.7.1.min.js\"></script><div id=\"chartjs-tooltip\" style='z-index: 1; opacity: 0; position: absolute; left: 246.493px; top: 3428.11px; font-family: -apple-system, BlinkMacSystemFont, \"Helvetica Neue\", Helvetica, \"Apple SD Gothic Neo\", Arial, \"Malgun Gothic\", \"맑은 고딕\", Dotum, 돋움, sans-serif; font-size: 11px; background-color: rgb(0, 0, 0); color: rgb(255, 255, 255); border-radius: 2px;'><a href=\"#\" style=\"display: inline-block; padding: 5px 7px;\" target=\"_blank\"><span style=\"text-decoration: underline;\">21분</span> (157명)<i style=\"position: absolute; top: 100%; left: 50%; margin-left:-5px; border: 5px solid transparent; border-top-color: #000; width: 0; height: 0;\"></i></a></div></body></html>"
      ]
     },
     "execution_count": 31,
     "metadata": {},
     "output_type": "execute_result"
    }
   ],
   "source": [
    "soup"
   ]
  },
  {
   "cell_type": "code",
   "execution_count": null,
   "metadata": {},
   "outputs": [],
   "source": [
    "#live_title = []\n",
    "#live_datetime = []\n",
    "#live_status = []\n",
    "live_title = soup.find('h2',{'class':'StatisticsWrapper_title_KxBD9'}).get_text()\n",
    "live_datetime = soup.find('time',{'class':'StatisticsWrapper_time_2u-vj'}).get_text()\n",
    "live_status = soup.find('span',{'class':'StatisticsWrapper_text_bDU_f'}).get_text()\n",
    "\n",
    "payment_stat = soup.find('div',{'class':'BroadcastPaymentStat_box_3waCZ'}).find_all('span',{'class':'EllipsisText_ellipsis_2y20w'})\n",
    "payment_price = payment_stat[0].get_text() #결제금액\n",
    "product_view = payment_stat[1].get_text() #상품조회수\n",
    "#banner_view = payment_stat[3].get_text() #배너조회수\n",
    "product_count = payment_stat[4].get_text() #결제상품수\n",
    "\n",
    "view_stat = soup.find('div',{'StatList_wrap_wOv3- StatList_type_vertical_3w-Nu BroadcastViewStat_list_1U5Q0'}).find_all('span',{'class':'EllipsisText_ellipsis_2y20w'})\n",
    "view_total = view_stat[0].get_text() #시청수\n",
    "view_login = view_stat[1].get_text() #시청수(로그인)\n",
    "view_logout = view_stat[2].get_text() #시청수(비로그인)\n",
    "view_max = view_stat[3].get_text() #최고동접자수\n",
    "alarm_total = view_stat[4].get_text() #전체알림수\n",
    "alarm_new = view_stat[5].get_text() #신규알림수\n",
    "\n",
    "purchase_stat = soup.find('div',{'UserWatchAndPurchaseStat_legend_2tBHL'}).find_all('span',{'class':'UserWatchAndPurchaseStat_key_kihCh'})\n",
    "man = purchase_stat[0].get_text() #남성\n",
    "man_purchase = purchase_stat[1].get_text() #구매남성\n",
    "woman = purchase_stat[2].get_text() #여성\n",
    "woman_purchase = purchase_stat[3].get_text() #구매여성\n",
    "\n",
    "                                                                                                "
   ]
  },
  {
   "cell_type": "code",
   "execution_count": 29,
   "metadata": {},
   "outputs": [],
   "source": [
    "driver.find_element_by_xpath('//*[@id=\"wa_referer_tab_ON_AIR\"]').click()"
   ]
  },
  {
   "cell_type": "code",
   "execution_count": null,
   "metadata": {},
   "outputs": [],
   "source": [
    "\n",
    "product = soup.find('div', {'class' : 'ag-center-cols-container'}).find_all('div', {'role' : 'row'})\n",
    "for i in range(0,len(product)):\n",
    "    live_id.append(product[i].find('div',{'class':'ag-cell ag-cell-not-inline-editing ag-cell-auto-height cell-id ag-cell-value'}).get_text())\n",
    "    live_datetime.append(product[i].find('div',{'class':'LiveContentItem_info_3Tv3i'}).get_text())\n",
    "    live_title.append(product[i].find('strong').get_text())"
   ]
  },
  {
   "cell_type": "code",
   "execution_count": null,
   "metadata": {},
   "outputs": [],
   "source": [
    "result = {\"id\" : live_id, \"date\" : live_datetime, \"title\" : live_title }\n",
    "df = pd.DataFrame(result)\n",
    "df = df.sort_values('date', ascending=False)\n",
    "df.head(4)"
   ]
  },
  {
   "cell_type": "code",
   "execution_count": null,
   "metadata": {},
   "outputs": [],
   "source": [
    "df.to_excel('shoppinglive_'+time.strftime(\"%Y%m%d\")+'.xlsx' ,sheet_name = 'sheet1')"
   ]
  }
 ],
 "metadata": {
  "kernelspec": {
   "display_name": "Python 3",
   "language": "python",
   "name": "python3"
  },
  "language_info": {
   "codemirror_mode": {
    "name": "ipython",
    "version": 3
   },
   "file_extension": ".py",
   "mimetype": "text/x-python",
   "name": "python",
   "nbconvert_exporter": "python",
   "pygments_lexer": "ipython3",
   "version": "3.6.8"
  }
 },
 "nbformat": 4,
 "nbformat_minor": 2
}
